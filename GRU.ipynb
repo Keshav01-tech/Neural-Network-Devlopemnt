{
 "cells": [
  {
   "cell_type": "code",
   "execution_count": 118,
   "id": "e58da8c5",
   "metadata": {},
   "outputs": [],
   "source": [
    "import torch\n",
    "import torch.nn as nn\n",
    "import torch.nn.functional as f\n",
    "import torch.optim as optim\n",
    "from torch.utils.data import DataLoader\n",
    "from torchvision.datasets import MNIST\n",
    "import torchvision.transforms as transforms\n"
   ]
  },
  {
   "cell_type": "code",
   "execution_count": 119,
   "id": "93c60857",
   "metadata": {},
   "outputs": [],
   "source": [
    "device = torch.device('cuda' if torch.cuda.is_available() else  'cpu')"
   ]
  },
  {
   "cell_type": "code",
   "execution_count": 120,
   "id": "11604e99",
   "metadata": {},
   "outputs": [],
   "source": [
    "input_size = 28\n",
    "num_class = 10\n",
    "hidden_size = 256\n",
    "num_layer = 2\n",
    "sequence_length = 28\n",
    "batch_size = 64\n",
    "learning_rate =0.001\n",
    "num_epochs = 5"
   ]
  },
  {
   "cell_type": "code",
   "execution_count": null,
   "id": "7fce3230",
   "metadata": {},
   "outputs": [],
   "source": [
    "# in gru there is two gate a reset gate and update gate \n",
    "# reset gate = what memory should it forget\n",
    "#update gate = what memory should it retain \n",
    "#input_size = feautures a one imestamp\n",
    "#hidden_size = how much memory it have\n",
    "class GRU(nn.Module):\n",
    "    def __init__(self ,input_size , hiiden_size ,num_layer , num_class  ):\n",
    "        super(GRU , self).__init__()\n",
    "        self.hidden_size = hiiden_size\n",
    "        self.num_layers = num_layer\n",
    "        self.Gru = nn.GRU(input_size=input_size , hidden_size=hidden_size , num_layers=num_layer , batch_first=True , bidirectional=False)\n",
    "        self.linear = nn.Linear(hiiden_size , num_class)\n",
    "    def forward(self, x):\n",
    "        out, h_n = self.Gru(x)  # out: [B, T, H], h_n: [num_layers, B, H]\n",
    "        last_hidden = h_n[-1]   # take the last layer hidden state\n",
    "        logits = self.linear(last_hidden)\n",
    "        return logits "
   ]
  },
  {
   "cell_type": "code",
   "execution_count": 122,
   "id": "1b55c683",
   "metadata": {},
   "outputs": [],
   "source": [
    "test_data = MNIST(root='/dataset' , train=False , transform=transforms.ToTensor() , download=True)\n",
    "train_data = MNIST(root='/dataset' ,train=True , transform=transforms.ToTensor() , download=True )\n",
    "test_loader  = DataLoader(test_data , shuffle=True , batch_size=batch_size)\n",
    "train_loader = DataLoader(train_data,shuffle=True , batch_size=batch_size )"
   ]
  },
  {
   "cell_type": "code",
   "execution_count": 123,
   "id": "d5ff3d1e",
   "metadata": {},
   "outputs": [],
   "source": [
    "model=GRU(input_size=input_size , hiiden_size=hidden_size ,num_layer=num_layer , num_class=num_class).to(device=device)"
   ]
  },
  {
   "cell_type": "code",
   "execution_count": 124,
   "id": "29fe37bd",
   "metadata": {},
   "outputs": [],
   "source": [
    "critision = nn.CrossEntropyLoss()\n",
    "optimizer = optim.Adam(model.parameters() , lr=learning_rate)"
   ]
  },
  {
   "cell_type": "code",
   "execution_count": 125,
   "id": "b51d18c6",
   "metadata": {},
   "outputs": [],
   "source": [
    "for epochs in range(num_epochs):\n",
    "    for batch_idx , (data , targets) in enumerate(train_loader):\n",
    "        data = data.to(device = device).squeeze(1)\n",
    "        targets = targets.to(device=device)\n",
    "        scores = model(data)\n",
    "        loss = critision(scores,targets)\n",
    "        optimizer.zero_grad()\n",
    "        loss.backward()\n",
    "        optimizer.step()"
   ]
  },
  {
   "cell_type": "code",
   "execution_count": 129,
   "id": "c412db17",
   "metadata": {},
   "outputs": [],
   "source": [
    "def check_accuracy(loader,model):\n",
    "    if loader.dataset.train:\n",
    "        print(\"accuracy for train dataset\")\n",
    "    else:\n",
    "        print(\"accuracy for test datsets\")\n",
    "    num_correct = 0\n",
    "    num_samples=0\n",
    "    model.eval()\n",
    "    \n",
    "    with torch.no_grad():\n",
    "        for x,y in loader:\n",
    "            x = x.to(device=device).squeeze(1)\n",
    "            y = y.to(device = device)\n",
    "           # x =x.reshape(x.shape[0] ,-1)\n",
    "            scores = model(x)\n",
    "            _,predictions = scores.max(1)\n",
    "            num_correct += (predictions==y).sum()\n",
    "            num_samples += predictions.size(0)\n",
    "        print(f'got {num_correct}/{num_samples} with accuraccy  {float(num_correct)/float(num_samples)*100:.2f}'\n",
    "        )\n",
    "    model.train()\n"
   ]
  },
  {
   "cell_type": "code",
   "execution_count": 130,
   "id": "c00b7bd8",
   "metadata": {},
   "outputs": [
    {
     "name": "stdout",
     "output_type": "stream",
     "text": [
      "accuracy for test datsets\n",
      "got 9880/10000 with accuraccy  98.80\n"
     ]
    }
   ],
   "source": [
    "check_accuracy(test_loader , model)"
   ]
  },
  {
   "cell_type": "code",
   "execution_count": null,
   "id": "8c38c3a5",
   "metadata": {},
   "outputs": [],
   "source": []
  }
 ],
 "metadata": {
  "kernelspec": {
   "display_name": "Python 3",
   "language": "python",
   "name": "python3"
  },
  "language_info": {
   "codemirror_mode": {
    "name": "ipython",
    "version": 3
   },
   "file_extension": ".py",
   "mimetype": "text/x-python",
   "name": "python",
   "nbconvert_exporter": "python",
   "pygments_lexer": "ipython3",
   "version": "3.10.0"
  }
 },
 "nbformat": 4,
 "nbformat_minor": 5
}
