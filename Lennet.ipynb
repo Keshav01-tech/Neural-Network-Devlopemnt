{
 "cells": [
  {
   "cell_type": "code",
   "execution_count": 89,
   "id": "fbd7aed8",
   "metadata": {},
   "outputs": [],
   "source": [
    "import torch\n",
    "import torch.nn as nn\n",
    "from torchvision.datasets import MNIST\n",
    "import torchvision.transforms as transforms\n",
    "from torch.utils.data import DataLoader\n",
    "import torch.nn.functional as f\n",
    "import torch.optim as optim"
   ]
  },
  {
   "cell_type": "code",
   "execution_count": 90,
   "id": "bf3fc2be",
   "metadata": {},
   "outputs": [],
   "source": [
    "class LNET(nn.Module):\n",
    "    def __init__(self):\n",
    "        super(LNET,self).__init__()\n",
    "        self.relu = nn.Tanh()\n",
    "        self.pool = nn.AvgPool2d(kernel_size=(2,2) , stride=(2,2))\n",
    "        self.conv1 = nn.Conv2d(in_channels=1 , out_channels=6 , kernel_size=(5,5) ,stride=(1,1) , padding=(0,0))\n",
    "        self.conv2 = nn.Conv2d(in_channels=6 , out_channels=16 , kernel_size=(5,5) , stride=(1,1) ,  padding=(0,0))\n",
    "        self.conv3 = nn.Conv2d(in_channels=16 ,out_channels=120 , kernel_size=(5,5) , stride=(1,1) ,padding=(0,0) )\n",
    "        self.linear1=nn.Linear(120, 84)\n",
    "        self.linear2 = nn.Linear(84,10)\n",
    "    def forward(self,x):\n",
    "        x = self.relu(self.conv1(x))\n",
    "        x = self.pool(x)\n",
    "        x = self.relu(self.conv2(x))\n",
    "        x = self.pool(x)\n",
    "        x = self.relu(self.conv3(x))\n",
    "        x = x.reshape(x.size(0) , -1)\n",
    "        x = self.relu(self.linear1(x))\n",
    "        x = self.linear2(x)\n",
    "        return x"
   ]
  },
  {
   "cell_type": "code",
   "execution_count": 91,
   "id": "fe93f0b8",
   "metadata": {},
   "outputs": [],
   "source": [
    "device = torch.device(\"cuda\" if torch.cuda.is_available() else \"cpu\")"
   ]
  },
  {
   "cell_type": "code",
   "execution_count": 92,
   "id": "b3cff20f",
   "metadata": {},
   "outputs": [],
   "source": [
    "batch_size = 64\n",
    "learning_rate = 0.001\n",
    "num_eochs = 3"
   ]
  },
  {
   "cell_type": "code",
   "execution_count": 93,
   "id": "85876f27",
   "metadata": {},
   "outputs": [],
   "source": [
    "model = LNET().to(device=device)"
   ]
  },
  {
   "cell_type": "code",
   "execution_count": 94,
   "id": "58d5b85d",
   "metadata": {},
   "outputs": [],
   "source": [
    "test_data = MNIST(root='/dataset' , train=False , transform = transforms.Compose([\n",
    "    transforms.Pad(2),       # 28x28 → 32x32\n",
    "    transforms.ToTensor()\n",
    "]),download=True)\n",
    "train_data =  MNIST(root='/dataset' , train=True , transform = transforms.Compose([\n",
    "    transforms.Pad(2),       # 28x28 → 32x32\n",
    "    transforms.ToTensor()\n",
    "])\n",
    " ,download=True)\n",
    "test_loader = DataLoader(test_data , shuffle=True , batch_size=batch_size)\n",
    "train_loader = DataLoader(train_data , shuffle=True , batch_size=batch_size)"
   ]
  },
  {
   "cell_type": "code",
   "execution_count": 95,
   "id": "f57ed48c",
   "metadata": {},
   "outputs": [],
   "source": [
    "critision = nn.CrossEntropyLoss()\n",
    "optimizer = optim.Adam(model.parameters() , lr=learning_rate)\n"
   ]
  },
  {
   "cell_type": "code",
   "execution_count": 96,
   "id": "88a0c674",
   "metadata": {},
   "outputs": [],
   "source": [
    "for epochs in range(num_eochs):\n",
    "    for batch_idx,(data , targets) in enumerate(train_loader):\n",
    "        data = data.to(device=device)\n",
    "        targets = targets.to(device=device)\n",
    "        scores = model(data)\n",
    "        loss = critision(scores,targets)\n",
    "        optimizer.zero_grad()\n",
    "        loss.backward()\n",
    "        optimizer.step()"
   ]
  },
  {
   "cell_type": "code",
   "execution_count": 98,
   "id": "529fc26b",
   "metadata": {},
   "outputs": [],
   "source": [
    "def check_accuracy(loader,model):\n",
    "    if loader.dataset.train:\n",
    "        print(\"accuracy for train dataset\")\n",
    "    else:\n",
    "        print(\"accuracy for test datsets\")\n",
    "    num_correct = 0\n",
    "    num_samples=0\n",
    "    model.eval()\n",
    "    \n",
    "    with torch.no_grad():\n",
    "        for x,y in loader:\n",
    "            x = x.to(device=device)\n",
    "            y = y.to(device = device)\n",
    "           # x =x.reshape(x.shape[0] ,-1)\n",
    "            scores = model(x)\n",
    "            _,predictions = scores.max(1)\n",
    "            num_correct += (predictions==y).sum()\n",
    "            num_samples += predictions.size(0)\n",
    "        print(f'got {num_correct}/{num_samples} with accuraccy  {float(num_correct)/float(num_samples)*100:.2f}'\n",
    "        )\n",
    "    model.train()\n"
   ]
  },
  {
   "cell_type": "code",
   "execution_count": 100,
   "id": "61804897",
   "metadata": {},
   "outputs": [
    {
     "name": "stdout",
     "output_type": "stream",
     "text": [
      "accuracy for train dataset\n",
      "got 59085/60000 with accuraccy  98.47\n"
     ]
    }
   ],
   "source": [
    "check_accuracy(train_loader,model)"
   ]
  },
  {
   "cell_type": "code",
   "execution_count": 101,
   "id": "853f295c",
   "metadata": {},
   "outputs": [
    {
     "name": "stdout",
     "output_type": "stream",
     "text": [
      "accuracy for test datsets\n",
      "got 9815/10000 with accuraccy  98.15\n"
     ]
    }
   ],
   "source": [
    "check_accuracy(test_loader,model)"
   ]
  },
  {
   "cell_type": "code",
   "execution_count": null,
   "id": "bf010a09",
   "metadata": {},
   "outputs": [],
   "source": []
  }
 ],
 "metadata": {
  "kernelspec": {
   "display_name": "Python 3",
   "language": "python",
   "name": "python3"
  },
  "language_info": {
   "codemirror_mode": {
    "name": "ipython",
    "version": 3
   },
   "file_extension": ".py",
   "mimetype": "text/x-python",
   "name": "python",
   "nbconvert_exporter": "python",
   "pygments_lexer": "ipython3",
   "version": "3.10.0"
  }
 },
 "nbformat": 4,
 "nbformat_minor": 5
}
