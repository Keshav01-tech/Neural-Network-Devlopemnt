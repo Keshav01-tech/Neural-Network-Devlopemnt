{
 "cells": [
  {
   "cell_type": "code",
   "execution_count": 1,
   "id": "6f8af88a",
   "metadata": {},
   "outputs": [],
   "source": [
    "import torch \n",
    "import torchvision\n",
    "from torch.utils.data import DataLoader\n",
    "import torchvision.datasets as datasets\n",
    "import torch.nn.functional as F\n",
    "import torch.nn as nn\n",
    "import torchvision.transforms as transforms\n",
    "import torch.optim as optim\n"
   ]
  },
  {
   "cell_type": "code",
   "execution_count": 2,
   "id": "71527586",
   "metadata": {},
   "outputs": [],
   "source": [
    "import os\n",
    "os.environ[\"CUDA_LAUNCH_BLOCKING\"] = \"1\"\n"
   ]
  },
  {
   "cell_type": "code",
   "execution_count": 3,
   "id": "4c6e19f1",
   "metadata": {},
   "outputs": [],
   "source": [
    "class CNN(nn.Module):\n",
    "    def __init__(self,in_channels = 1, num_class =10):\n",
    "        super(CNN ,self).__init__()\n",
    "        self.conv1 = nn.Conv2d(in_channels=1 , out_channels=8 , kernel_size=(3,3) , stride=(1,1) , padding=(1,1))\n",
    "        self.pool = nn.MaxPool2d(kernel_size=(2,2) , stride=(2,2))\n",
    "        self.conv2 = nn.Conv2d(in_channels=8 , out_channels=16 , kernel_size=(3,3), stride=(1,1) , padding=(1,1))\n",
    "        self.fc1 = nn.Linear(16*7*7 , num_class)\n",
    "\n",
    "    def forward(self , x):\n",
    "        x = F.relu(self.conv1(x))\n",
    "        x = self.pool(x)\n",
    "        x= F.relu(self.conv2(x))\n",
    "        x = self.pool(x)\n",
    "        x = x.reshape(x.shape[0] , -1)\n",
    "        x = self.fc1(x)\n",
    "        return x\n"
   ]
  },
  {
   "cell_type": "code",
   "execution_count": null,
   "id": "63c60934",
   "metadata": {},
   "outputs": [],
   "source": []
  },
  {
   "cell_type": "code",
   "execution_count": 4,
   "id": "1b84361f",
   "metadata": {},
   "outputs": [
    {
     "data": {
      "text/plain": [
       "device(type='cuda')"
      ]
     },
     "execution_count": 4,
     "metadata": {},
     "output_type": "execute_result"
    }
   ],
   "source": [
    "device = torch.device('cuda'if torch.cuda.is_available() else 'cpu')\n",
    "device"
   ]
  },
  {
   "cell_type": "code",
   "execution_count": 5,
   "id": "54b4d03c",
   "metadata": {},
   "outputs": [],
   "source": [
    "in_channels = 1\n",
    "num_class = 10\n",
    "learning_rate = 0.001\n",
    "batch_size = 64\n",
    "num_eppochs = 5"
   ]
  },
  {
   "cell_type": "code",
   "execution_count": 6,
   "id": "58c3ce89",
   "metadata": {},
   "outputs": [],
   "source": [
    "train_datasets = datasets.MNIST(root ='dataset/' , train= True ,transform = transforms.ToTensor() , download=True)\n",
    "train_lader = DataLoader(train_datasets , batch_size= batch_size ,shuffle=True)\n",
    "test_dataset = datasets.MNIST(root ='dataset/' , train= False ,transform = transforms.ToTensor() , download = True)\n",
    "teat_dataloader = DataLoader(test_dataset , batch_size=batch_size , shuffle=True)\n"
   ]
  },
  {
   "cell_type": "code",
   "execution_count": 7,
   "id": "1b6dc5ca",
   "metadata": {},
   "outputs": [],
   "source": [
    "model = CNN().to(device=device)\n"
   ]
  },
  {
   "cell_type": "code",
   "execution_count": 8,
   "id": "b9212e09",
   "metadata": {},
   "outputs": [],
   "source": [
    "critision = nn.CrossEntropyLoss()\n",
    "optimizer = optim.Adam(model.parameters(),lr = learning_rate)"
   ]
  },
  {
   "cell_type": "code",
   "execution_count": 9,
   "id": "1fc62406",
   "metadata": {},
   "outputs": [],
   "source": [
    "import os\n",
    "os.environ[\"CUDA_LAUNCH_BLOCKING\"] = \"1\"\n"
   ]
  },
  {
   "cell_type": "code",
   "execution_count": 10,
   "id": "beb26618",
   "metadata": {},
   "outputs": [],
   "source": [
    "for epochs in range(num_eppochs):\n",
    "    for batch_idx ,(data ,targets) in enumerate(train_lader):\n",
    "        data = data.to(device = device)\n",
    "        targets = targets.to(device = device)\n",
    "        scores = model(data)\n",
    "        loss = critision(scores,targets)\n",
    "        optimizer.zero_grad()\n",
    "        loss.backward()\n",
    "        optimizer.step()"
   ]
  },
  {
   "cell_type": "code",
   "execution_count": 11,
   "id": "f1bc39eb",
   "metadata": {},
   "outputs": [],
   "source": [
    "def check_accuracy(loader,model):\n",
    "    if loader.dataset.train:\n",
    "        print(\"accuracy for train dataset\")\n",
    "    else:\n",
    "        print(\"accuracy o test datsets\")\n",
    "    num_correct = 0\n",
    "    num_samples=0\n",
    "    model.eval()\n",
    "    \n",
    "    with torch.no_grad():\n",
    "        for x,y in loader:\n",
    "            x = x.to(device=device)\n",
    "            y = y.to(device = device)\n",
    "            scores = model(x)\n",
    "            _,predictions = scores.max(1)\n",
    "            num_correct += (predictions==y).sum()\n",
    "            num_samples += predictions.size(0)\n",
    "        print(f'got {num_correct}/{num_samples} with accuraccy  {float(num_correct)/float(num_samples)*100:.2f}'\n",
    "        )\n",
    "    model.train()\n"
   ]
  },
  {
   "cell_type": "code",
   "execution_count": 13,
   "id": "bfeba8b4",
   "metadata": {},
   "outputs": [
    {
     "name": "stdout",
     "output_type": "stream",
     "text": [
      "accuracy for train dataset\n",
      "got 57634/60000 with accuraccy  96.06\n"
     ]
    }
   ],
   "source": [
    "check_accuracy(train_lader , model)"
   ]
  },
  {
   "cell_type": "code",
   "execution_count": 14,
   "id": "d928c6a1",
   "metadata": {},
   "outputs": [
    {
     "name": "stdout",
     "output_type": "stream",
     "text": [
      "accuracy o test datsets\n",
      "got 9633/10000 with accuraccy  96.33\n"
     ]
    }
   ],
   "source": [
    "check_accuracy(teat_dataloader ,model)"
   ]
  },
  {
   "cell_type": "code",
   "execution_count": null,
   "id": "bb3ce4bc",
   "metadata": {},
   "outputs": [],
   "source": []
  }
 ],
 "metadata": {
  "kernelspec": {
   "display_name": "Python 3",
   "language": "python",
   "name": "python3"
  },
  "language_info": {
   "codemirror_mode": {
    "name": "ipython",
    "version": 3
   },
   "file_extension": ".py",
   "mimetype": "text/x-python",
   "name": "python",
   "nbconvert_exporter": "python",
   "pygments_lexer": "ipython3",
   "version": "3.10.0"
  }
 },
 "nbformat": 4,
 "nbformat_minor": 5
}
